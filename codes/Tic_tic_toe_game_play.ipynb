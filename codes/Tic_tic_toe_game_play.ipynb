{
 "cells": [
  {
   "cell_type": "code",
   "execution_count": 55,
   "id": "bc519b74",
   "metadata": {},
   "outputs": [],
   "source": [
    "import pandas as pd\n",
    "import numpy as np\n",
    "import random\n",
    "import tkinter as tk\n",
    "from tkinter import messagebox\n",
    "import pickle"
   ]
  },
  {
   "cell_type": "markdown",
   "id": "d06c8128",
   "metadata": {},
   "source": [
    "## Load functions From Train Codes"
   ]
  },
  {
   "cell_type": "markdown",
   "id": "2c42a396",
   "metadata": {},
   "source": [
    "#### Load Q table"
   ]
  },
  {
   "cell_type": "code",
   "execution_count": 56,
   "id": "b48c3fb7",
   "metadata": {},
   "outputs": [],
   "source": [
    "def load_q_table(file_name=\"q_table.pkl\"):\n",
    "    try:\n",
    "        with open(file_name, \"rb\") as f:\n",
    "            return pickle.load(f)\n",
    "    except FileNotFoundError:\n",
    "        return initialize_q_table()"
   ]
  },
  {
   "cell_type": "code",
   "execution_count": 57,
   "id": "f9d76bae",
   "metadata": {},
   "outputs": [],
   "source": [
    "def create_tic_tac_toe():\n",
    "    \n",
    "    ##### empty 3x3 board\n",
    "    board = np.zeros((3, 3), dtype=int)\n",
    "    \n",
    "    ##### action space (all possible positions on the board)\n",
    "    action_space = [(i, j) for i in range(3) for j in range(3)]\n",
    "    \n",
    "    return board, action_space"
   ]
  },
  {
   "cell_type": "code",
   "execution_count": 58,
   "id": "069d2eb7",
   "metadata": {},
   "outputs": [],
   "source": [
    "def check_game_status(board):\n",
    "    ###### Check rows and columns for a win\n",
    "    for i in range(3):\n",
    "        if np.all(board[i, :] == 1) or np.all(board[:, i] == 1):\n",
    "            return 1  ######## AI wins\n",
    "        if np.all(board[i, :] == -1) or np.all(board[:, i] == -1):\n",
    "            return -1  ####### Human wins\n",
    "    \n",
    "    ######## Check diagonals for a win\n",
    "    if np.all(np.diag(board) == 1) or np.all(np.diag(np.fliplr(board)) == 1):\n",
    "        return 1  ##### AI wins\n",
    "    if np.all(np.diag(board) == -1) or np.all(np.diag(np.fliplr(board)) == -1):\n",
    "        return -1  ###### Human wins\n",
    "    \n",
    "    ###### Check for a draw (no empty spaces left)\n",
    "    if not np.any(board == 0):\n",
    "        return 0  # Draw\n",
    "    \n",
    "    #### Game is ongoing\n",
    "    return None"
   ]
  },
  {
   "cell_type": "code",
   "execution_count": 59,
   "id": "6dc13508",
   "metadata": {},
   "outputs": [],
   "source": [
    "import pickle\n",
    "def save_q_table(q_table, file_name=\"q_table.pkl\"):\n",
    "    with open(file_name, \"wb\") as f:\n",
    "        pickle.dump(q_table, f)"
   ]
  },
  {
   "cell_type": "code",
   "execution_count": 60,
   "id": "c311c22f",
   "metadata": {},
   "outputs": [],
   "source": [
    "def state_to_key(board):\n",
    "    return ''.join(map(str, board.flatten()))"
   ]
  },
  {
   "cell_type": "code",
   "execution_count": 61,
   "id": "a09780c1",
   "metadata": {},
   "outputs": [],
   "source": [
    "def epsilon_greedy_action(q_table, state_key, epsilon, valid_actions):\n",
    "    if random.random() < epsilon:\n",
    "        ##### Explore: Choose a random valid action\n",
    "        return random.choice(valid_actions)\n",
    "    else:\n",
    "        ##### Exploit: Choose the action with the highest Q-value\n",
    "        if state_key in q_table:\n",
    "            q_values = q_table[state_key]\n",
    "            return max(valid_actions, key=lambda action: q_values.get(action, 0))\n",
    "        else:\n",
    "            ### If state not in Q-table, randomly explore\n",
    "            return random.choice(valid_actions)"
   ]
  },
  {
   "cell_type": "code",
   "execution_count": 62,
   "id": "d0dded32",
   "metadata": {},
   "outputs": [],
   "source": [
    "def update_q_value(q_table, state_key, action, reward, next_state_key, alpha, gamma, valid_actions):\n",
    "    if state_key not in q_table:\n",
    "        q_table[state_key] = {a: 0 for a in valid_actions}\n",
    "    if next_state_key not in q_table:\n",
    "        q_table[next_state_key] = {a: 0 for a in valid_actions}\n",
    "\n",
    "    max_future_q = max(q_table[next_state_key].values())\n",
    "    current_q = q_table[state_key][action]\n",
    "    q_table[state_key][action] = current_q + alpha * (reward + gamma * max_future_q - current_q)"
   ]
  },
  {
   "cell_type": "markdown",
   "id": "d7aad144",
   "metadata": {},
   "source": [
    "## GUI"
   ]
  },
  {
   "cell_type": "markdown",
   "id": "5ffb543f",
   "metadata": {},
   "source": [
    "### Code for GUI"
   ]
  },
  {
   "cell_type": "markdown",
   "id": "9b5146c6",
   "metadata": {},
   "source": [
    "##### We have to Define functions  for GUI"
   ]
  },
  {
   "cell_type": "markdown",
   "id": "583be940",
   "metadata": {},
   "source": [
    "##### 1. Reset Board"
   ]
  },
  {
   "cell_type": "code",
   "execution_count": 63,
   "id": "2d101744",
   "metadata": {},
   "outputs": [],
   "source": [
    "\"\"\"\n",
    "Resets the board and GUI buttons for a new game.\n",
    "\n",
    "para:\n",
    "    gui_buttons (list): List of button widgets.\n",
    "    board (np.array): The game board.\n",
    "\"\"\"\n",
    "def reset_board(gui_buttons, board):\n",
    "    for i in range(3):\n",
    "        for j in range(3):\n",
    "            gui_buttons[i][j].config(text=\"\", state=tk.NORMAL)\n",
    "    board.fill(0)"
   ]
  },
  {
   "cell_type": "markdown",
   "id": "ec4efc25",
   "metadata": {},
   "source": [
    "###### 2. Handel Human move"
   ]
  },
  {
   "cell_type": "code",
   "execution_count": 64,
   "id": "9f76e6dd",
   "metadata": {},
   "outputs": [],
   "source": [
    "\"\"\"\n",
    "Handles button click (human's move).\n",
    "\n",
    "Args:\n",
    "    row (int): Row index of the clicked button.\n",
    "    col (int): Column index of the clicked button.\n",
    "    gui_buttons (list): List of button widgets.\n",
    "    board (np.array): The game board.\n",
    "    q_table (dict): The Q-table.\n",
    "    ai_player (int): Value representing the AI player.\n",
    "    human_player (int): Value representing the human player.\n",
    "    \n",
    "\"\"\"\n",
    "def handle_click(row, col, gui_buttons, board, q_table, ai_player, human_player):\n",
    "    if board[row, col] == 0:\n",
    "        ######### Human move   #######################\n",
    "        board[row, col] = human_player\n",
    "        gui_buttons[row][col].config(text=\"X\", state=tk.DISABLED)\n",
    "\n",
    "        ############## Check if the game ended ################\n",
    "        status = check_game_status(board)\n",
    "        if status is not None:\n",
    "            show_result(status, gui_buttons, board, q_table, ai_player, human_player)\n",
    "            return\n",
    "\n",
    "        ################ AI move  ############################\n",
    "        ai_move(board, gui_buttons, q_table, ai_player)\n",
    "\n",
    "        ############### Check if the game ended #########################\n",
    "        status = check_game_status(board)\n",
    "        if status is not None:\n",
    "            show_result(status, gui_buttons, board, q_table, ai_player, human_player)"
   ]
  },
  {
   "cell_type": "markdown",
   "id": "077d2978",
   "metadata": {},
   "source": [
    "###### 3. Handel AI move"
   ]
  },
  {
   "cell_type": "code",
   "execution_count": 65,
   "id": "be0304bc",
   "metadata": {},
   "outputs": [],
   "source": [
    "\"\"\"\n",
    "Handles the AI's move.\n",
    "\n",
    "Args:\n",
    "    board (np.array): The game board.\n",
    "    gui_buttons (list): List of button widgets.\n",
    "    q_table (dict): The Q-table.\n",
    "    ai_player (int): Value representing the AI player.\n",
    "\"\"\"\n",
    "def ai_move(board, gui_buttons, q_table, ai_player):\n",
    "    state_key = state_to_key(board)\n",
    "    valid_actions = [(i, j) for i in range(3) for j in range(3) if board[i, j] == 0]\n",
    "    action = epsilon_greedy_action(q_table, state_key, epsilon=0.01, valid_actions=valid_actions)\n",
    "    board[action[0], action[1]] = ai_player\n",
    "    gui_buttons[action[0]][action[1]].config(text=\"O\", state=tk.DISABLED)"
   ]
  },
  {
   "cell_type": "markdown",
   "id": "5367fa6e",
   "metadata": {},
   "source": [
    "#### 4. Display game Result"
   ]
  },
  {
   "cell_type": "code",
   "execution_count": 66,
   "id": "528a24b9",
   "metadata": {},
   "outputs": [],
   "source": [
    "\"\"\"\n",
    "Displays the game result and resets the board.\n",
    "\n",
    "Args:\n",
    "    status (int): The game status (-1 for loss, 0 for draw, 1 for win).\n",
    "    gui_buttons (list): List of button widgets.\n",
    "    board (np.array): The game board.\n",
    "    q_table (dict): The Q-table.\n",
    "    ai_player (int): Value representing the AI player.\n",
    "    human_player (int): Value representing the human player.\n",
    "\"\"\"\n",
    "def show_result(status, gui_buttons, board, q_table, ai_player, human_player):\n",
    "    if status == ai_player:\n",
    "        messagebox.showinfo(\"Result\", \"AI wins!\")\n",
    "        reward = -1\n",
    "    elif status == human_player:\n",
    "        messagebox.showinfo(\"Result\", \"You win!\")\n",
    "        reward = 1\n",
    "    else:\n",
    "        messagebox.showinfo(\"Result\", \"It's a draw!\")\n",
    "        reward = 0\n",
    "\n",
    "    # Update Q-table based on the game result\n",
    "    update_q_table(q_table, board, reward, ai_player, human_player)\n",
    "\n",
    "    # Reset board for a new game\n",
    "    reset_board(gui_buttons, board)"
   ]
  },
  {
   "cell_type": "markdown",
   "id": "ba36e883",
   "metadata": {},
   "source": [
    "##### 5. Update Q table"
   ]
  },
  {
   "cell_type": "code",
   "execution_count": 67,
   "id": "b756c9ed",
   "metadata": {},
   "outputs": [],
   "source": [
    "\"\"\"\n",
    "Updates the Q-table at the end of a game.\n",
    "\n",
    "Args:\n",
    "    q_table (dict): The Q-table.\n",
    "    board (np.array): The game board.\n",
    "    reward (float): The game reward.\n",
    "    ai_player (int): Value representing the AI player.\n",
    "    human_player (int): Value representing the human player.\n",
    "\"\"\"\n",
    "def update_q_table(q_table, board, reward, ai_player, human_player):\n",
    "    state_key = state_to_key(board)\n",
    "    valid_actions = [(i, j) for i in range(3) for j in range(3) if board[i, j] == 0]\n",
    "    if state_key not in q_table:\n",
    "        q_table[state_key] = {action: 0 for action in valid_actions}\n",
    "    for action in valid_actions:\n",
    "        update_q_value(q_table, state_key, action, reward, None, alpha=0.1, gamma=0.9, valid_actions=valid_actions)"
   ]
  },
  {
   "cell_type": "markdown",
   "id": "e1089a74",
   "metadata": {},
   "source": [
    "##### 6. GUI Initialization"
   ]
  },
  {
   "cell_type": "code",
   "execution_count": 69,
   "id": "ca692f7d",
   "metadata": {},
   "outputs": [],
   "source": [
    "def run_game():\n",
    "    q_table = load_q_table()\n",
    "    board, _ = create_tic_tac_toe()\n",
    "    root = tk.Tk()\n",
    "    root.title(\"Tic-Tac-Toe\")\n",
    "\n",
    "    gui_buttons = [[None for _ in range(3)] for _ in range(3)]\n",
    "\n",
    "    for i in range(3):\n",
    "        for j in range(3):\n",
    "            gui_buttons[i][j] = tk.Button(root, text=\"\", font=(\"Helvetica\", 20), width=5, height=2,\n",
    "                                          command=lambda i=i, j=j: handle_click(i, j, gui_buttons, board, q_table, 1, -1))\n",
    "            gui_buttons[i][j].grid(row=i, column=j)\n",
    "\n",
    "    root.mainloop()\n",
    "    save_q_table(q_table)  #### Save the Q-table at the end of the session\n",
    "\n",
    "run_game()"
   ]
  }
 ],
 "metadata": {
  "kernelspec": {
   "display_name": "Python 3 (ipykernel)",
   "language": "python",
   "name": "python3"
  },
  "language_info": {
   "codemirror_mode": {
    "name": "ipython",
    "version": 3
   },
   "file_extension": ".py",
   "mimetype": "text/x-python",
   "name": "python",
   "nbconvert_exporter": "python",
   "pygments_lexer": "ipython3",
   "version": "3.11.4"
  }
 },
 "nbformat": 4,
 "nbformat_minor": 5
}
